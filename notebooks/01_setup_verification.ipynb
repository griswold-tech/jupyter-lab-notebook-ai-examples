{
 "cells": [
  {
   "cell_type": "code",
   "execution_count": 1,
   "id": "9bf17bfa-6174-4f37-8791-e9503801dad5",
   "metadata": {},
   "outputs": [
    {
     "name": "stdout",
     "output_type": "stream",
     "text": [
      "✅ Ollama is running!\n",
      "Available models: ['nomic-embed-text:latest', 'qwen3:14b-q4_K_M', 'starcoder2:15b-instruct-v0.1-q4_K_M', 'codellama:13b-python-q5_K_M', 'qwen2.5-coder:14b-instruct-q4_K_M', 'deepseek-coder-v2:16b-lite-base-q4_K_M', 'gpt-oss:20b', 'llama3.2:3b-instruct-q4_K_M', 'codellama:7b-instruct-q4_K_M', 'mistral:7b-instruct-q4_K_M', 'llama3.1:8b-instruct-q4_K_M']\n"
     ]
    }
   ],
   "source": [
    "# Cell 1: Test Ollama Connection\n",
    "import requests\n",
    "import json\n",
    "\n",
    "def test_ollama():\n",
    "    try:\n",
    "        response = requests.get(\"http://ollama:11434/api/tags\")\n",
    "        if response.status_code == 200:\n",
    "            models = response.json()\n",
    "            print(\"✅ Ollama is running!\")\n",
    "            print(\"Available models:\", [model['name'] for model in models['models']])\n",
    "        else:\n",
    "            print(\"❌ Ollama connection failed\")\n",
    "    except Exception as e:\n",
    "        print(f\"❌ Error connecting to Ollama: {e}\")\n",
    "\n",
    "test_ollama()"
   ]
  },
  {
   "cell_type": "code",
   "execution_count": 2,
   "id": "75f4d3a3-a3e6-44a5-98ed-fac85b397e23",
   "metadata": {},
   "outputs": [
    {
     "name": "stdout",
     "output_type": "stream",
     "text": [
      "✅ ChromaDB is running!\n",
      "Collections: 0\n"
     ]
    }
   ],
   "source": [
    "# Cell 2: Test ChromaDB\n",
    "import chromadb\n",
    "\n",
    "def test_chromadb():\n",
    "    try:\n",
    "        client = chromadb.HttpClient(host=\"chromadb\", port=8000)\n",
    "        client.heartbeat()\n",
    "        print(\"✅ ChromaDB is running!\")\n",
    "        collections = client.list_collections()\n",
    "        print(f\"Collections: {len(collections)}\")\n",
    "    except Exception as e:\n",
    "        print(f\"❌ ChromaDB connection failed: {e}\")\n",
    "\n",
    "test_chromadb()"
   ]
  },
  {
   "cell_type": "code",
   "execution_count": 3,
   "id": "8e63a3f2-877f-4ce8-b589-c26fda856ed5",
   "metadata": {},
   "outputs": [
    {
     "name": "stdout",
     "output_type": "stream",
     "text": [
      "✅ LangChain + Ollama working!\n",
      "Response: I'm functioning as intended. How can I assist you today?\n"
     ]
    }
   ],
   "source": [
    "# Cell 3: Test LangChain with Ollama - Modern API\n",
    "from langchain_ollama import OllamaLLM\n",
    "\n",
    "def test_langchain_ollama():\n",
    "    try:\n",
    "        llm = OllamaLLM(base_url=\"http://ollama:11434\", model=\"llama3.1:8b-instruct-q4_K_M\")\n",
    "        response = llm.invoke(\"Hello! Can you tell me you're working properly?\")\n",
    "        print(\"✅ LangChain + Ollama working!\")\n",
    "        print(\"Response:\", response)\n",
    "    except Exception as e:\n",
    "        print(f\"❌ LangChain + Ollama failed: {e}\")\n",
    "\n",
    "test_langchain_ollama()"
   ]
  },
  {
   "cell_type": "code",
   "execution_count": null,
   "id": "677bf182-e48a-4906-81ed-d3084b69acab",
   "metadata": {},
   "outputs": [],
   "source": []
  }
 ],
 "metadata": {
  "kernelspec": {
   "display_name": "Python 3 (ipykernel)",
   "language": "python",
   "name": "python3"
  },
  "language_info": {
   "codemirror_mode": {
    "name": "ipython",
    "version": 3
   },
   "file_extension": ".py",
   "mimetype": "text/x-python",
   "name": "python",
   "nbconvert_exporter": "python",
   "pygments_lexer": "ipython3",
   "version": "3.11.6"
  }
 },
 "nbformat": 4,
 "nbformat_minor": 5
}
