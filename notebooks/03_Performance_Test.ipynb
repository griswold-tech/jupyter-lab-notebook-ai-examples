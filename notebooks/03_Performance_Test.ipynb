{
 "cells": [
  {
   "cell_type": "code",
   "execution_count": 1,
   "id": "cc2d4adb-bae5-494f-86a2-586cdad8670c",
   "metadata": {},
   "outputs": [
    {
     "name": "stdout",
     "output_type": "stream",
     "text": [
      "Response time: 1.67 seconds\n",
      "Response: Machine learning is a subfield of artificial intelligence that enables computers to learn from data without being explicitly programmed. By analyzing large datasets, machines can identify patterns and make predictions or take actions based on what they've learned. This process involves training algorithms on labeled examples, allowing the computer to improve its performance over time as it encounters new inputs. As a result, machine learning has numerous applications in fields such as image recognition, natural language processing, and predictive analytics, making it an increasingly important tool for businesses, researchers, and developers looking to automate decision-making processes or gain insights from complex data sets.\n"
     ]
    }
   ],
   "source": [
    "# Test inference speed to verify GPU acceleration:\n",
    "\n",
    "import time\n",
    "from langchain_ollama import OllamaLLM\n",
    "\n",
    "llm = OllamaLLM(base_url=\"http://ollama:11434\", model=\"llama3.1:8b-instruct-q4_K_M\")\n",
    "\n",
    "# Time the inference\n",
    "start = time.time()\n",
    "response = llm.invoke(\"Write a short paragraph about machine learning.\")\n",
    "end = time.time()\n",
    "\n",
    "print(f\"Response time: {end - start:.2f} seconds\")\n",
    "print(f\"Response: {response}\")\n",
    "\n",
    "# GPU: 2-5 seconds | CPU: 30-60 seconds"
   ]
  },
  {
   "cell_type": "code",
   "execution_count": null,
   "id": "26d55809-6f7a-4cc6-a816-2f1432e24be3",
   "metadata": {},
   "outputs": [],
   "source": []
  }
 ],
 "metadata": {
  "kernelspec": {
   "display_name": "Python 3 (ipykernel)",
   "language": "python",
   "name": "python3"
  },
  "language_info": {
   "codemirror_mode": {
    "name": "ipython",
    "version": 3
   },
   "file_extension": ".py",
   "mimetype": "text/x-python",
   "name": "python",
   "nbconvert_exporter": "python",
   "pygments_lexer": "ipython3",
   "version": "3.11.6"
  }
 },
 "nbformat": 4,
 "nbformat_minor": 5
}
