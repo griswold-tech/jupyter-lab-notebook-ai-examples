{
 "cells": [
  {
   "cell_type": "code",
   "execution_count": 1,
   "id": "04c1e44e-f1e1-4c88-a650-f0bc3b267ed7",
   "metadata": {},
   "outputs": [
    {
     "name": "stdout",
     "output_type": "stream",
     "text": [
      "Query: How does AI help with software development?\n",
      "Answer: According to the context, AI helps with software development by using automated code generation.\n"
     ]
    }
   ],
   "source": [
    "# Modern RAG application - No deprecation warnings\n",
    "from langchain_ollama import OllamaLLM, OllamaEmbeddings\n",
    "from langchain_community.vectorstores import Chroma\n",
    "from langchain.text_splitter import CharacterTextSplitter\n",
    "from langchain.chains import RetrievalQA\n",
    "from langchain.schema import Document\n",
    "\n",
    "# Initialize components\n",
    "llm = OllamaLLM(base_url=\"http://ollama:11434\", model=\"llama3.1:8b-instruct-q4_K_M\")\n",
    "#llm = OllamaLLM(base_url=\"http://ollama:11434\", model=\"gpt-oss:20b\")\n",
    "embeddings = OllamaEmbeddings(base_url=\"http://ollama:11434\", model=\"nomic-embed-text\")\n",
    "\n",
    "# Sample documents\n",
    "documents = [\n",
    "    Document(page_content=\"AI is transforming software development through automated code generation.\"),\n",
    "    Document(page_content=\"Machine learning models require large datasets for training.\"),\n",
    "    Document(page_content=\"Docker containers provide isolated environments for applications.\"),\n",
    "]\n",
    "\n",
    "# Create text splitter and vector store\n",
    "text_splitter = CharacterTextSplitter(chunk_size=1000, chunk_overlap=0)\n",
    "texts = text_splitter.split_documents(documents)\n",
    "\n",
    "# Create vector store\n",
    "vectorstore = Chroma.from_documents(\n",
    "    texts, \n",
    "    embeddings,\n",
    "    persist_directory=\"./chroma_db\"\n",
    ")\n",
    "\n",
    "# Create QA chain\n",
    "qa = RetrievalQA.from_chain_type(\n",
    "    llm=llm,\n",
    "    chain_type=\"stuff\",\n",
    "    retriever=vectorstore.as_retriever()\n",
    ")\n",
    "\n",
    "# Test query - using modern invoke method\n",
    "query = \"How does AI help with software development?\"\n",
    "# query = \"What is a good tool for running LLM models within Docker containers?\"\n",
    "result = qa.invoke({\"query\": query})\n",
    "print(f\"Query: {query}\")\n",
    "print(f\"Answer: {result['result']}\")"
   ]
  },
  {
   "cell_type": "code",
   "execution_count": null,
   "id": "98b4e30a-6c9c-45d5-8217-872582f20b67",
   "metadata": {},
   "outputs": [],
   "source": []
  }
 ],
 "metadata": {
  "kernelspec": {
   "display_name": "Python 3 (ipykernel)",
   "language": "python",
   "name": "python3"
  },
  "language_info": {
   "codemirror_mode": {
    "name": "ipython",
    "version": 3
   },
   "file_extension": ".py",
   "mimetype": "text/x-python",
   "name": "python",
   "nbconvert_exporter": "python",
   "pygments_lexer": "ipython3",
   "version": "3.11.6"
  }
 },
 "nbformat": 4,
 "nbformat_minor": 5
}
